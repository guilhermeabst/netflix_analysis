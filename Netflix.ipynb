{
 "cells": [
  {
   "cell_type": "markdown",
   "metadata": {},
   "source": [
    "# Streaming Platform Analysis \n",
    "### O intuito desse projeto é entender como estão distribuidos os filmes na plataforma netflix.\n",
    "### Quais os principais generos? Quais os principais diretores?\n",
    "### Além disso, entender se existe uma possível correlação entre esses fatores e o score no IMDb"
   ]
  },
  {
   "cell_type": "markdown",
   "metadata": {},
   "source": [
    "# Importando Bibliotecas e Dados"
   ]
  },
  {
   "cell_type": "code",
   "execution_count": 1,
   "metadata": {},
   "outputs": [],
   "source": [
    "import pandas as pd\n",
    "import seaborn as sns\n",
    "import matplotlib.pyplot as plt\n",
    "import numpy as np \n",
    "%matplotlib inline"
   ]
  },
  {
   "cell_type": "code",
   "execution_count": 2,
   "metadata": {},
   "outputs": [
    {
     "data": {
      "text/html": [
       "<div>\n",
       "<style scoped>\n",
       "    .dataframe tbody tr th:only-of-type {\n",
       "        vertical-align: middle;\n",
       "    }\n",
       "\n",
       "    .dataframe tbody tr th {\n",
       "        vertical-align: top;\n",
       "    }\n",
       "\n",
       "    .dataframe thead th {\n",
       "        text-align: right;\n",
       "    }\n",
       "</style>\n",
       "<table border=\"1\" class=\"dataframe\">\n",
       "  <thead>\n",
       "    <tr style=\"text-align: right;\">\n",
       "      <th></th>\n",
       "      <th>Unnamed: 0</th>\n",
       "      <th>ID</th>\n",
       "      <th>Title</th>\n",
       "      <th>Year</th>\n",
       "      <th>Age</th>\n",
       "      <th>IMDb</th>\n",
       "      <th>Rotten Tomatoes</th>\n",
       "      <th>Netflix</th>\n",
       "      <th>Hulu</th>\n",
       "      <th>Prime Video</th>\n",
       "      <th>Disney+</th>\n",
       "      <th>Type</th>\n",
       "      <th>Directors</th>\n",
       "      <th>Genres</th>\n",
       "      <th>Country</th>\n",
       "      <th>Language</th>\n",
       "      <th>Runtime</th>\n",
       "    </tr>\n",
       "  </thead>\n",
       "  <tbody>\n",
       "    <tr>\n",
       "      <th>0</th>\n",
       "      <td>0</td>\n",
       "      <td>1</td>\n",
       "      <td>The Irishman</td>\n",
       "      <td>2019</td>\n",
       "      <td>18+</td>\n",
       "      <td>7.8/10</td>\n",
       "      <td>98/100</td>\n",
       "      <td>1</td>\n",
       "      <td>0</td>\n",
       "      <td>0</td>\n",
       "      <td>0</td>\n",
       "      <td>0</td>\n",
       "      <td>Martin Scorsese</td>\n",
       "      <td>Biography,Crime,Drama</td>\n",
       "      <td>United States</td>\n",
       "      <td>English,Italian,Latin,Spanish,German</td>\n",
       "      <td>209.0</td>\n",
       "    </tr>\n",
       "    <tr>\n",
       "      <th>1</th>\n",
       "      <td>1</td>\n",
       "      <td>2</td>\n",
       "      <td>Dangal</td>\n",
       "      <td>2016</td>\n",
       "      <td>7+</td>\n",
       "      <td>8.4/10</td>\n",
       "      <td>97/100</td>\n",
       "      <td>1</td>\n",
       "      <td>0</td>\n",
       "      <td>0</td>\n",
       "      <td>0</td>\n",
       "      <td>0</td>\n",
       "      <td>Nitesh Tiwari</td>\n",
       "      <td>Action,Biography,Drama,Sport</td>\n",
       "      <td>India,United States,United Kingdom,Australia,K...</td>\n",
       "      <td>Hindi,English</td>\n",
       "      <td>161.0</td>\n",
       "    </tr>\n",
       "    <tr>\n",
       "      <th>2</th>\n",
       "      <td>2</td>\n",
       "      <td>3</td>\n",
       "      <td>David Attenborough: A Life on Our Planet</td>\n",
       "      <td>2020</td>\n",
       "      <td>7+</td>\n",
       "      <td>9.0/10</td>\n",
       "      <td>95/100</td>\n",
       "      <td>1</td>\n",
       "      <td>0</td>\n",
       "      <td>0</td>\n",
       "      <td>0</td>\n",
       "      <td>0</td>\n",
       "      <td>Alastair Fothergill,Jonathan Hughes,Keith Scholey</td>\n",
       "      <td>Documentary,Biography</td>\n",
       "      <td>United Kingdom</td>\n",
       "      <td>English</td>\n",
       "      <td>83.0</td>\n",
       "    </tr>\n",
       "    <tr>\n",
       "      <th>3</th>\n",
       "      <td>3</td>\n",
       "      <td>4</td>\n",
       "      <td>Lagaan: Once Upon a Time in India</td>\n",
       "      <td>2001</td>\n",
       "      <td>7+</td>\n",
       "      <td>8.1/10</td>\n",
       "      <td>94/100</td>\n",
       "      <td>1</td>\n",
       "      <td>0</td>\n",
       "      <td>0</td>\n",
       "      <td>0</td>\n",
       "      <td>0</td>\n",
       "      <td>Ashutosh Gowariker</td>\n",
       "      <td>Drama,Musical,Sport</td>\n",
       "      <td>India,United Kingdom</td>\n",
       "      <td>Hindi,English</td>\n",
       "      <td>224.0</td>\n",
       "    </tr>\n",
       "    <tr>\n",
       "      <th>4</th>\n",
       "      <td>4</td>\n",
       "      <td>5</td>\n",
       "      <td>Roma</td>\n",
       "      <td>2018</td>\n",
       "      <td>18+</td>\n",
       "      <td>7.7/10</td>\n",
       "      <td>94/100</td>\n",
       "      <td>1</td>\n",
       "      <td>0</td>\n",
       "      <td>0</td>\n",
       "      <td>0</td>\n",
       "      <td>0</td>\n",
       "      <td>NaN</td>\n",
       "      <td>Action,Drama,History,Romance,War</td>\n",
       "      <td>United Kingdom,United States</td>\n",
       "      <td>English</td>\n",
       "      <td>52.0</td>\n",
       "    </tr>\n",
       "  </tbody>\n",
       "</table>\n",
       "</div>"
      ],
      "text/plain": [
       "   Unnamed: 0  ID                                     Title  Year  Age  \\\n",
       "0           0   1                              The Irishman  2019  18+   \n",
       "1           1   2                                    Dangal  2016   7+   \n",
       "2           2   3  David Attenborough: A Life on Our Planet  2020   7+   \n",
       "3           3   4         Lagaan: Once Upon a Time in India  2001   7+   \n",
       "4           4   5                                      Roma  2018  18+   \n",
       "\n",
       "     IMDb Rotten Tomatoes  Netflix  Hulu  Prime Video  Disney+  Type  \\\n",
       "0  7.8/10          98/100        1     0            0        0     0   \n",
       "1  8.4/10          97/100        1     0            0        0     0   \n",
       "2  9.0/10          95/100        1     0            0        0     0   \n",
       "3  8.1/10          94/100        1     0            0        0     0   \n",
       "4  7.7/10          94/100        1     0            0        0     0   \n",
       "\n",
       "                                           Directors  \\\n",
       "0                                    Martin Scorsese   \n",
       "1                                      Nitesh Tiwari   \n",
       "2  Alastair Fothergill,Jonathan Hughes,Keith Scholey   \n",
       "3                                 Ashutosh Gowariker   \n",
       "4                                                NaN   \n",
       "\n",
       "                             Genres  \\\n",
       "0             Biography,Crime,Drama   \n",
       "1      Action,Biography,Drama,Sport   \n",
       "2             Documentary,Biography   \n",
       "3               Drama,Musical,Sport   \n",
       "4  Action,Drama,History,Romance,War   \n",
       "\n",
       "                                             Country  \\\n",
       "0                                      United States   \n",
       "1  India,United States,United Kingdom,Australia,K...   \n",
       "2                                     United Kingdom   \n",
       "3                               India,United Kingdom   \n",
       "4                       United Kingdom,United States   \n",
       "\n",
       "                               Language  Runtime  \n",
       "0  English,Italian,Latin,Spanish,German    209.0  \n",
       "1                         Hindi,English    161.0  \n",
       "2                               English     83.0  \n",
       "3                         Hindi,English    224.0  \n",
       "4                               English     52.0  "
      ]
     },
     "execution_count": 2,
     "metadata": {},
     "output_type": "execute_result"
    }
   ],
   "source": [
    "df = pd.read_csv(\"MoviesOnStreamingPlatforms_updated.csv\")\n",
    "df.head()"
   ]
  },
  {
   "cell_type": "markdown",
   "metadata": {},
   "source": [
    "### Essas são as colunas presentes no dataset\n",
    "\n",
    "### Title: The Title of the Movie\n",
    "### Year: The Year in which the Movie was released\n",
    "### Age: Age Required for watching the movie\n",
    "### IMDb: The IMDb Score of the Movie (out of 10)\n",
    "### Rotten Tomatoes: The Rotten Tomatoes Score of the Movie (out of 100)\n",
    "### Netflix: Whether the movie is present on Netflix or not (1 for True, 0 for False)\n",
    "### Hulu: Whether the movie is present on Hulu or not (1 for True, 0 for False)\n",
    "### Prime Video: Whether the movie is present on Prime Video or not (1 for True, 0 for False)\n",
    "### Disney+: Whether the movie is present on Disney+ or not (1 for True, 0 for False)\n",
    "### Directors: Director(s) of the Movie\n",
    "### Genres: Genres of the Movies\n",
    "### Country: Countries in which the movie was directed\n",
    "### Language: Language(s) in which the movie is available"
   ]
  },
  {
   "cell_type": "markdown",
   "metadata": {},
   "source": [
    "## Análise Básica\n"
   ]
  },
  {
   "cell_type": "code",
   "execution_count": 3,
   "metadata": {},
   "outputs": [
    {
     "name": "stdout",
     "output_type": "stream",
     "text": [
      "<class 'pandas.core.frame.DataFrame'>\n",
      "RangeIndex: 9515 entries, 0 to 9514\n",
      "Data columns (total 17 columns):\n",
      " #   Column           Non-Null Count  Dtype  \n",
      "---  ------           --------------  -----  \n",
      " 0   Unnamed: 0       9515 non-null   int64  \n",
      " 1   ID               9515 non-null   int64  \n",
      " 2   Title            9515 non-null   object \n",
      " 3   Year             9515 non-null   int64  \n",
      " 4   Age              5338 non-null   object \n",
      " 5   IMDb             9309 non-null   object \n",
      " 6   Rotten Tomatoes  9508 non-null   object \n",
      " 7   Netflix          9515 non-null   int64  \n",
      " 8   Hulu             9515 non-null   int64  \n",
      " 9   Prime Video      9515 non-null   int64  \n",
      " 10  Disney+          9515 non-null   int64  \n",
      " 11  Type             9515 non-null   int64  \n",
      " 12  Directors        9104 non-null   object \n",
      " 13  Genres           9399 non-null   object \n",
      " 14  Country          9261 non-null   object \n",
      " 15  Language         9202 non-null   object \n",
      " 16  Runtime          9196 non-null   float64\n",
      "dtypes: float64(1), int64(8), object(8)\n",
      "memory usage: 1.2+ MB\n"
     ]
    }
   ],
   "source": [
    "df.info()"
   ]
  },
  {
   "cell_type": "markdown",
   "metadata": {},
   "source": [
    "###  Como podemos ver, o Dataset apresenta alguns valores nulos, vamos lidar com eles agora"
   ]
  },
  {
   "cell_type": "code",
   "execution_count": 4,
   "metadata": {},
   "outputs": [
    {
     "name": "stdout",
     "output_type": "stream",
     "text": [
      "Unnamed: 0 - 0.0%\n",
      "ID - 0.0%\n",
      "Title - 0.0%\n",
      "Year - 0.0%\n",
      "Age - 43.89910667367315%\n",
      "IMDb - 2.1650026274303733%\n",
      "Rotten Tomatoes - 0.07356805044666316%\n",
      "Netflix - 0.0%\n",
      "Hulu - 0.0%\n",
      "Prime Video - 0.0%\n",
      "Disney+ - 0.0%\n",
      "Type - 0.0%\n",
      "Directors - 4.319495533368365%\n",
      "Genres - 1.2191276931161323%\n",
      "Country - 2.6694692590646345%\n",
      "Language - 3.2895428271150813%\n",
      "Runtime - 3.352601156069364%\n"
     ]
    }
   ],
   "source": [
    "for cols in df.columns: \n",
    "    null_values = np.mean(df[cols].isnull())*100\n",
    "    print(\"{} - {}%\".format(cols,null_values))"
   ]
  },
  {
   "cell_type": "markdown",
   "metadata": {},
   "source": [
    "## Limpando o Dataset"
   ]
  },
  {
   "cell_type": "markdown",
   "metadata": {},
   "source": [
    "### A idade indicativa do filme (\"Age\") tem 43% de valores nulos, vamos simplesmente dropar essa coluna"
   ]
  },
  {
   "cell_type": "code",
   "execution_count": 5,
   "metadata": {},
   "outputs": [
    {
     "data": {
      "text/html": [
       "<div>\n",
       "<style scoped>\n",
       "    .dataframe tbody tr th:only-of-type {\n",
       "        vertical-align: middle;\n",
       "    }\n",
       "\n",
       "    .dataframe tbody tr th {\n",
       "        vertical-align: top;\n",
       "    }\n",
       "\n",
       "    .dataframe thead th {\n",
       "        text-align: right;\n",
       "    }\n",
       "</style>\n",
       "<table border=\"1\" class=\"dataframe\">\n",
       "  <thead>\n",
       "    <tr style=\"text-align: right;\">\n",
       "      <th></th>\n",
       "      <th>ID</th>\n",
       "      <th>Title</th>\n",
       "      <th>Year</th>\n",
       "      <th>IMDb</th>\n",
       "      <th>Rotten Tomatoes</th>\n",
       "      <th>Netflix</th>\n",
       "      <th>Hulu</th>\n",
       "      <th>Prime Video</th>\n",
       "      <th>Disney+</th>\n",
       "      <th>Type</th>\n",
       "      <th>Directors</th>\n",
       "      <th>Genres</th>\n",
       "      <th>Country</th>\n",
       "      <th>Language</th>\n",
       "      <th>Runtime</th>\n",
       "    </tr>\n",
       "  </thead>\n",
       "  <tbody>\n",
       "    <tr>\n",
       "      <th>0</th>\n",
       "      <td>1</td>\n",
       "      <td>The Irishman</td>\n",
       "      <td>2019</td>\n",
       "      <td>7.8/10</td>\n",
       "      <td>98/100</td>\n",
       "      <td>1</td>\n",
       "      <td>0</td>\n",
       "      <td>0</td>\n",
       "      <td>0</td>\n",
       "      <td>0</td>\n",
       "      <td>Martin Scorsese</td>\n",
       "      <td>Biography,Crime,Drama</td>\n",
       "      <td>United States</td>\n",
       "      <td>English,Italian,Latin,Spanish,German</td>\n",
       "      <td>209.0</td>\n",
       "    </tr>\n",
       "    <tr>\n",
       "      <th>1</th>\n",
       "      <td>2</td>\n",
       "      <td>Dangal</td>\n",
       "      <td>2016</td>\n",
       "      <td>8.4/10</td>\n",
       "      <td>97/100</td>\n",
       "      <td>1</td>\n",
       "      <td>0</td>\n",
       "      <td>0</td>\n",
       "      <td>0</td>\n",
       "      <td>0</td>\n",
       "      <td>Nitesh Tiwari</td>\n",
       "      <td>Action,Biography,Drama,Sport</td>\n",
       "      <td>India,United States,United Kingdom,Australia,K...</td>\n",
       "      <td>Hindi,English</td>\n",
       "      <td>161.0</td>\n",
       "    </tr>\n",
       "    <tr>\n",
       "      <th>2</th>\n",
       "      <td>3</td>\n",
       "      <td>David Attenborough: A Life on Our Planet</td>\n",
       "      <td>2020</td>\n",
       "      <td>9.0/10</td>\n",
       "      <td>95/100</td>\n",
       "      <td>1</td>\n",
       "      <td>0</td>\n",
       "      <td>0</td>\n",
       "      <td>0</td>\n",
       "      <td>0</td>\n",
       "      <td>Alastair Fothergill,Jonathan Hughes,Keith Scholey</td>\n",
       "      <td>Documentary,Biography</td>\n",
       "      <td>United Kingdom</td>\n",
       "      <td>English</td>\n",
       "      <td>83.0</td>\n",
       "    </tr>\n",
       "    <tr>\n",
       "      <th>3</th>\n",
       "      <td>4</td>\n",
       "      <td>Lagaan: Once Upon a Time in India</td>\n",
       "      <td>2001</td>\n",
       "      <td>8.1/10</td>\n",
       "      <td>94/100</td>\n",
       "      <td>1</td>\n",
       "      <td>0</td>\n",
       "      <td>0</td>\n",
       "      <td>0</td>\n",
       "      <td>0</td>\n",
       "      <td>Ashutosh Gowariker</td>\n",
       "      <td>Drama,Musical,Sport</td>\n",
       "      <td>India,United Kingdom</td>\n",
       "      <td>Hindi,English</td>\n",
       "      <td>224.0</td>\n",
       "    </tr>\n",
       "    <tr>\n",
       "      <th>5</th>\n",
       "      <td>6</td>\n",
       "      <td>To All the Boys I've Loved Before</td>\n",
       "      <td>2018</td>\n",
       "      <td>7.1/10</td>\n",
       "      <td>94/100</td>\n",
       "      <td>1</td>\n",
       "      <td>0</td>\n",
       "      <td>0</td>\n",
       "      <td>0</td>\n",
       "      <td>0</td>\n",
       "      <td>Susan Johnson</td>\n",
       "      <td>Comedy,Drama,Romance</td>\n",
       "      <td>United States</td>\n",
       "      <td>English</td>\n",
       "      <td>99.0</td>\n",
       "    </tr>\n",
       "  </tbody>\n",
       "</table>\n",
       "</div>"
      ],
      "text/plain": [
       "   ID                                     Title  Year    IMDb Rotten Tomatoes  \\\n",
       "0   1                              The Irishman  2019  7.8/10          98/100   \n",
       "1   2                                    Dangal  2016  8.4/10          97/100   \n",
       "2   3  David Attenborough: A Life on Our Planet  2020  9.0/10          95/100   \n",
       "3   4         Lagaan: Once Upon a Time in India  2001  8.1/10          94/100   \n",
       "5   6         To All the Boys I've Loved Before  2018  7.1/10          94/100   \n",
       "\n",
       "   Netflix  Hulu  Prime Video  Disney+  Type  \\\n",
       "0        1     0            0        0     0   \n",
       "1        1     0            0        0     0   \n",
       "2        1     0            0        0     0   \n",
       "3        1     0            0        0     0   \n",
       "5        1     0            0        0     0   \n",
       "\n",
       "                                           Directors  \\\n",
       "0                                    Martin Scorsese   \n",
       "1                                      Nitesh Tiwari   \n",
       "2  Alastair Fothergill,Jonathan Hughes,Keith Scholey   \n",
       "3                                 Ashutosh Gowariker   \n",
       "5                                      Susan Johnson   \n",
       "\n",
       "                         Genres  \\\n",
       "0         Biography,Crime,Drama   \n",
       "1  Action,Biography,Drama,Sport   \n",
       "2         Documentary,Biography   \n",
       "3           Drama,Musical,Sport   \n",
       "5          Comedy,Drama,Romance   \n",
       "\n",
       "                                             Country  \\\n",
       "0                                      United States   \n",
       "1  India,United States,United Kingdom,Australia,K...   \n",
       "2                                     United Kingdom   \n",
       "3                               India,United Kingdom   \n",
       "5                                      United States   \n",
       "\n",
       "                               Language  Runtime  \n",
       "0  English,Italian,Latin,Spanish,German    209.0  \n",
       "1                         Hindi,English    161.0  \n",
       "2                               English     83.0  \n",
       "3                         Hindi,English    224.0  \n",
       "5                               English     99.0  "
      ]
     },
     "execution_count": 5,
     "metadata": {},
     "output_type": "execute_result"
    }
   ],
   "source": [
    "df_drop_age = df.copy()\n",
    "df_drop_age.drop(columns=[\"Unnamed: 0\", \"Age\"], inplace=True)\n",
    "df_drop_age.dropna(axis=0, inplace = True)\n",
    "df_drop_age.head()\n"
   ]
  },
  {
   "cell_type": "markdown",
   "metadata": {},
   "source": [
    "### Outro ponto que podemos observar é que as notas do IMDb e do Rotten Tomatoes estão como \"Object\".\n",
    "### Vamos transformar-los em valores númericos para facilitar a análise"
   ]
  },
  {
   "cell_type": "code",
   "execution_count": 6,
   "metadata": {},
   "outputs": [],
   "source": [
    "df_scores = df_drop_age.copy()\n",
    "\n",
    "df_scores[\"IMDb\"] = df_scores[\"IMDb\"].apply(lambda x:x.split(\"/\")[0])\n",
    "df_scores[\"Rotten Tomatoes\"] = df_scores[\"Rotten Tomatoes\"].apply(lambda x:x.split(\"/\")[0])\n",
    "df_scores[\"IMDb\"] = df_scores[\"IMDb\"].astype(\"float64\")\n",
    "df_scores[\"Rotten Tomatoes\"] = df_scores[\"Rotten Tomatoes\"].astype(\"int64\")"
   ]
  },
  {
   "cell_type": "code",
   "execution_count": 7,
   "metadata": {},
   "outputs": [
    {
     "name": "stdout",
     "output_type": "stream",
     "text": [
      "<class 'pandas.core.frame.DataFrame'>\n",
      "Int64Index: 8695 entries, 0 to 9496\n",
      "Data columns (total 15 columns):\n",
      " #   Column           Non-Null Count  Dtype  \n",
      "---  ------           --------------  -----  \n",
      " 0   ID               8695 non-null   int64  \n",
      " 1   Title            8695 non-null   object \n",
      " 2   Year             8695 non-null   int64  \n",
      " 3   IMDb             8695 non-null   float64\n",
      " 4   Rotten Tomatoes  8695 non-null   int64  \n",
      " 5   Netflix          8695 non-null   int64  \n",
      " 6   Hulu             8695 non-null   int64  \n",
      " 7   Prime Video      8695 non-null   int64  \n",
      " 8   Disney+          8695 non-null   int64  \n",
      " 9   Type             8695 non-null   int64  \n",
      " 10  Directors        8695 non-null   object \n",
      " 11  Genres           8695 non-null   object \n",
      " 12  Country          8695 non-null   object \n",
      " 13  Language         8695 non-null   object \n",
      " 14  Runtime          8695 non-null   float64\n",
      "dtypes: float64(2), int64(8), object(5)\n",
      "memory usage: 1.1+ MB\n"
     ]
    }
   ],
   "source": [
    "df_scores.info()"
   ]
  },
  {
   "cell_type": "markdown",
   "metadata": {},
   "source": [
    "### O Data set apresenta alguns problemas, por exemplo, quando olhamos a coluna de \"Genero\" (Genre), percebemos que existe mais de uma classificação, separada por vírgula. Por exemplo, um filme pode ser de comédia e ação. Isso também acontece para a coluna de país. Se olharmos bem, faz sentido considerarmos o primeiro gênero da lista de valores como o gênero \"principal\", assim como o país.  Com isso em mente, e para facilitar a análise, vamos fazer com que o primeiro gênero e o primeiro país sejam os valores que aparecem em cada coluna"
   ]
  },
  {
   "cell_type": "code",
   "execution_count": 8,
   "metadata": {},
   "outputs": [
    {
     "data": {
      "text/plain": [
       "['Biography',\n",
       " 'Action',\n",
       " 'Documentary',\n",
       " 'Drama',\n",
       " 'Comedy',\n",
       " 'Documentary',\n",
       " 'Action',\n",
       " 'Comedy',\n",
       " 'Drama',\n",
       " 'Crime']"
      ]
     },
     "execution_count": 8,
     "metadata": {},
     "output_type": "execute_result"
    }
   ],
   "source": [
    "genres = []\n",
    "\n",
    "for i in df_scores[\"Genres\"]:\n",
    "    main_genre = i.split(\",\")[0]\n",
    "    genres.append(main_genre)\n",
    "\n",
    "genres[:10]"
   ]
  },
  {
   "cell_type": "code",
   "execution_count": 9,
   "metadata": {},
   "outputs": [
    {
     "data": {
      "text/html": [
       "<div>\n",
       "<style scoped>\n",
       "    .dataframe tbody tr th:only-of-type {\n",
       "        vertical-align: middle;\n",
       "    }\n",
       "\n",
       "    .dataframe tbody tr th {\n",
       "        vertical-align: top;\n",
       "    }\n",
       "\n",
       "    .dataframe thead th {\n",
       "        text-align: right;\n",
       "    }\n",
       "</style>\n",
       "<table border=\"1\" class=\"dataframe\">\n",
       "  <thead>\n",
       "    <tr style=\"text-align: right;\">\n",
       "      <th></th>\n",
       "      <th>ID</th>\n",
       "      <th>Title</th>\n",
       "      <th>Year</th>\n",
       "      <th>IMDb</th>\n",
       "      <th>Rotten Tomatoes</th>\n",
       "      <th>Netflix</th>\n",
       "      <th>Hulu</th>\n",
       "      <th>Prime Video</th>\n",
       "      <th>Disney+</th>\n",
       "      <th>Type</th>\n",
       "      <th>Directors</th>\n",
       "      <th>Country</th>\n",
       "      <th>Language</th>\n",
       "      <th>Runtime</th>\n",
       "      <th>Genre</th>\n",
       "    </tr>\n",
       "  </thead>\n",
       "  <tbody>\n",
       "    <tr>\n",
       "      <th>0</th>\n",
       "      <td>1</td>\n",
       "      <td>The Irishman</td>\n",
       "      <td>2019</td>\n",
       "      <td>7.8</td>\n",
       "      <td>98</td>\n",
       "      <td>1</td>\n",
       "      <td>0</td>\n",
       "      <td>0</td>\n",
       "      <td>0</td>\n",
       "      <td>0</td>\n",
       "      <td>Martin Scorsese</td>\n",
       "      <td>United States</td>\n",
       "      <td>English,Italian,Latin,Spanish,German</td>\n",
       "      <td>209.0</td>\n",
       "      <td>Biography</td>\n",
       "    </tr>\n",
       "    <tr>\n",
       "      <th>1</th>\n",
       "      <td>2</td>\n",
       "      <td>Dangal</td>\n",
       "      <td>2016</td>\n",
       "      <td>8.4</td>\n",
       "      <td>97</td>\n",
       "      <td>1</td>\n",
       "      <td>0</td>\n",
       "      <td>0</td>\n",
       "      <td>0</td>\n",
       "      <td>0</td>\n",
       "      <td>Nitesh Tiwari</td>\n",
       "      <td>India,United States,United Kingdom,Australia,K...</td>\n",
       "      <td>Hindi,English</td>\n",
       "      <td>161.0</td>\n",
       "      <td>Action</td>\n",
       "    </tr>\n",
       "    <tr>\n",
       "      <th>2</th>\n",
       "      <td>3</td>\n",
       "      <td>David Attenborough: A Life on Our Planet</td>\n",
       "      <td>2020</td>\n",
       "      <td>9.0</td>\n",
       "      <td>95</td>\n",
       "      <td>1</td>\n",
       "      <td>0</td>\n",
       "      <td>0</td>\n",
       "      <td>0</td>\n",
       "      <td>0</td>\n",
       "      <td>Alastair Fothergill,Jonathan Hughes,Keith Scholey</td>\n",
       "      <td>United Kingdom</td>\n",
       "      <td>English</td>\n",
       "      <td>83.0</td>\n",
       "      <td>Documentary</td>\n",
       "    </tr>\n",
       "    <tr>\n",
       "      <th>3</th>\n",
       "      <td>4</td>\n",
       "      <td>Lagaan: Once Upon a Time in India</td>\n",
       "      <td>2001</td>\n",
       "      <td>8.1</td>\n",
       "      <td>94</td>\n",
       "      <td>1</td>\n",
       "      <td>0</td>\n",
       "      <td>0</td>\n",
       "      <td>0</td>\n",
       "      <td>0</td>\n",
       "      <td>Ashutosh Gowariker</td>\n",
       "      <td>India,United Kingdom</td>\n",
       "      <td>Hindi,English</td>\n",
       "      <td>224.0</td>\n",
       "      <td>Drama</td>\n",
       "    </tr>\n",
       "    <tr>\n",
       "      <th>5</th>\n",
       "      <td>6</td>\n",
       "      <td>To All the Boys I've Loved Before</td>\n",
       "      <td>2018</td>\n",
       "      <td>7.1</td>\n",
       "      <td>94</td>\n",
       "      <td>1</td>\n",
       "      <td>0</td>\n",
       "      <td>0</td>\n",
       "      <td>0</td>\n",
       "      <td>0</td>\n",
       "      <td>Susan Johnson</td>\n",
       "      <td>United States</td>\n",
       "      <td>English</td>\n",
       "      <td>99.0</td>\n",
       "      <td>Comedy</td>\n",
       "    </tr>\n",
       "  </tbody>\n",
       "</table>\n",
       "</div>"
      ],
      "text/plain": [
       "   ID                                     Title  Year  IMDb  Rotten Tomatoes  \\\n",
       "0   1                              The Irishman  2019   7.8               98   \n",
       "1   2                                    Dangal  2016   8.4               97   \n",
       "2   3  David Attenborough: A Life on Our Planet  2020   9.0               95   \n",
       "3   4         Lagaan: Once Upon a Time in India  2001   8.1               94   \n",
       "5   6         To All the Boys I've Loved Before  2018   7.1               94   \n",
       "\n",
       "   Netflix  Hulu  Prime Video  Disney+  Type  \\\n",
       "0        1     0            0        0     0   \n",
       "1        1     0            0        0     0   \n",
       "2        1     0            0        0     0   \n",
       "3        1     0            0        0     0   \n",
       "5        1     0            0        0     0   \n",
       "\n",
       "                                           Directors  \\\n",
       "0                                    Martin Scorsese   \n",
       "1                                      Nitesh Tiwari   \n",
       "2  Alastair Fothergill,Jonathan Hughes,Keith Scholey   \n",
       "3                                 Ashutosh Gowariker   \n",
       "5                                      Susan Johnson   \n",
       "\n",
       "                                             Country  \\\n",
       "0                                      United States   \n",
       "1  India,United States,United Kingdom,Australia,K...   \n",
       "2                                     United Kingdom   \n",
       "3                               India,United Kingdom   \n",
       "5                                      United States   \n",
       "\n",
       "                               Language  Runtime        Genre  \n",
       "0  English,Italian,Latin,Spanish,German    209.0    Biography  \n",
       "1                         Hindi,English    161.0       Action  \n",
       "2                               English     83.0  Documentary  \n",
       "3                         Hindi,English    224.0        Drama  \n",
       "5                               English     99.0       Comedy  "
      ]
     },
     "execution_count": 9,
     "metadata": {},
     "output_type": "execute_result"
    }
   ],
   "source": [
    "df_genre = df_scores.copy()\n",
    "df_genre[\"Genre\"] = genres \n",
    "df_genre.drop(columns=\"Genres\", inplace = True)\n",
    "df_genre.head()\n"
   ]
  },
  {
   "cell_type": "code",
   "execution_count": 10,
   "metadata": {},
   "outputs": [
    {
     "data": {
      "text/plain": [
       "['United States',\n",
       " 'India',\n",
       " 'United Kingdom',\n",
       " 'India',\n",
       " 'United States',\n",
       " 'United States',\n",
       " 'South Korea',\n",
       " 'United States',\n",
       " 'United States',\n",
       " 'India']"
      ]
     },
     "execution_count": 10,
     "metadata": {},
     "output_type": "execute_result"
    }
   ],
   "source": [
    "country = []\n",
    "\n",
    "for i in df_genre[\"Country\"]:\n",
    "    main_country = i.split(\",\")[0]\n",
    "    country.append(main_country)\n",
    "\n",
    "country[:10]"
   ]
  },
  {
   "cell_type": "code",
   "execution_count": 11,
   "metadata": {},
   "outputs": [
    {
     "data": {
      "text/html": [
       "<div>\n",
       "<style scoped>\n",
       "    .dataframe tbody tr th:only-of-type {\n",
       "        vertical-align: middle;\n",
       "    }\n",
       "\n",
       "    .dataframe tbody tr th {\n",
       "        vertical-align: top;\n",
       "    }\n",
       "\n",
       "    .dataframe thead th {\n",
       "        text-align: right;\n",
       "    }\n",
       "</style>\n",
       "<table border=\"1\" class=\"dataframe\">\n",
       "  <thead>\n",
       "    <tr style=\"text-align: right;\">\n",
       "      <th></th>\n",
       "      <th>ID</th>\n",
       "      <th>Title</th>\n",
       "      <th>Year</th>\n",
       "      <th>IMDb</th>\n",
       "      <th>Rotten Tomatoes</th>\n",
       "      <th>Netflix</th>\n",
       "      <th>Hulu</th>\n",
       "      <th>Prime Video</th>\n",
       "      <th>Disney+</th>\n",
       "      <th>Type</th>\n",
       "      <th>Directors</th>\n",
       "      <th>Runtime</th>\n",
       "      <th>Genre</th>\n",
       "      <th>Countrys</th>\n",
       "    </tr>\n",
       "  </thead>\n",
       "  <tbody>\n",
       "    <tr>\n",
       "      <th>0</th>\n",
       "      <td>1</td>\n",
       "      <td>The Irishman</td>\n",
       "      <td>2019</td>\n",
       "      <td>7.8</td>\n",
       "      <td>98</td>\n",
       "      <td>1</td>\n",
       "      <td>0</td>\n",
       "      <td>0</td>\n",
       "      <td>0</td>\n",
       "      <td>0</td>\n",
       "      <td>Martin Scorsese</td>\n",
       "      <td>209.0</td>\n",
       "      <td>Biography</td>\n",
       "      <td>United States</td>\n",
       "    </tr>\n",
       "    <tr>\n",
       "      <th>1</th>\n",
       "      <td>2</td>\n",
       "      <td>Dangal</td>\n",
       "      <td>2016</td>\n",
       "      <td>8.4</td>\n",
       "      <td>97</td>\n",
       "      <td>1</td>\n",
       "      <td>0</td>\n",
       "      <td>0</td>\n",
       "      <td>0</td>\n",
       "      <td>0</td>\n",
       "      <td>Nitesh Tiwari</td>\n",
       "      <td>161.0</td>\n",
       "      <td>Action</td>\n",
       "      <td>India</td>\n",
       "    </tr>\n",
       "    <tr>\n",
       "      <th>2</th>\n",
       "      <td>3</td>\n",
       "      <td>David Attenborough: A Life on Our Planet</td>\n",
       "      <td>2020</td>\n",
       "      <td>9.0</td>\n",
       "      <td>95</td>\n",
       "      <td>1</td>\n",
       "      <td>0</td>\n",
       "      <td>0</td>\n",
       "      <td>0</td>\n",
       "      <td>0</td>\n",
       "      <td>Alastair Fothergill,Jonathan Hughes,Keith Scholey</td>\n",
       "      <td>83.0</td>\n",
       "      <td>Documentary</td>\n",
       "      <td>United Kingdom</td>\n",
       "    </tr>\n",
       "    <tr>\n",
       "      <th>3</th>\n",
       "      <td>4</td>\n",
       "      <td>Lagaan: Once Upon a Time in India</td>\n",
       "      <td>2001</td>\n",
       "      <td>8.1</td>\n",
       "      <td>94</td>\n",
       "      <td>1</td>\n",
       "      <td>0</td>\n",
       "      <td>0</td>\n",
       "      <td>0</td>\n",
       "      <td>0</td>\n",
       "      <td>Ashutosh Gowariker</td>\n",
       "      <td>224.0</td>\n",
       "      <td>Drama</td>\n",
       "      <td>India</td>\n",
       "    </tr>\n",
       "    <tr>\n",
       "      <th>5</th>\n",
       "      <td>6</td>\n",
       "      <td>To All the Boys I've Loved Before</td>\n",
       "      <td>2018</td>\n",
       "      <td>7.1</td>\n",
       "      <td>94</td>\n",
       "      <td>1</td>\n",
       "      <td>0</td>\n",
       "      <td>0</td>\n",
       "      <td>0</td>\n",
       "      <td>0</td>\n",
       "      <td>Susan Johnson</td>\n",
       "      <td>99.0</td>\n",
       "      <td>Comedy</td>\n",
       "      <td>United States</td>\n",
       "    </tr>\n",
       "  </tbody>\n",
       "</table>\n",
       "</div>"
      ],
      "text/plain": [
       "   ID                                     Title  Year  IMDb  Rotten Tomatoes  \\\n",
       "0   1                              The Irishman  2019   7.8               98   \n",
       "1   2                                    Dangal  2016   8.4               97   \n",
       "2   3  David Attenborough: A Life on Our Planet  2020   9.0               95   \n",
       "3   4         Lagaan: Once Upon a Time in India  2001   8.1               94   \n",
       "5   6         To All the Boys I've Loved Before  2018   7.1               94   \n",
       "\n",
       "   Netflix  Hulu  Prime Video  Disney+  Type  \\\n",
       "0        1     0            0        0     0   \n",
       "1        1     0            0        0     0   \n",
       "2        1     0            0        0     0   \n",
       "3        1     0            0        0     0   \n",
       "5        1     0            0        0     0   \n",
       "\n",
       "                                           Directors  Runtime        Genre  \\\n",
       "0                                    Martin Scorsese    209.0    Biography   \n",
       "1                                      Nitesh Tiwari    161.0       Action   \n",
       "2  Alastair Fothergill,Jonathan Hughes,Keith Scholey     83.0  Documentary   \n",
       "3                                 Ashutosh Gowariker    224.0        Drama   \n",
       "5                                      Susan Johnson     99.0       Comedy   \n",
       "\n",
       "         Countrys  \n",
       "0   United States  \n",
       "1           India  \n",
       "2  United Kingdom  \n",
       "3           India  \n",
       "5   United States  "
      ]
     },
     "execution_count": 11,
     "metadata": {},
     "output_type": "execute_result"
    }
   ],
   "source": [
    "df_country = df_genre.copy()\n",
    "df_country[\"Countrys\"] = country\n",
    "df_country.drop(columns=[\"Language\",\"Country\"], inplace = True)\n",
    "df_country.head()"
   ]
  },
  {
   "cell_type": "markdown",
   "metadata": {},
   "source": [
    "# Visualizações"
   ]
  },
  {
   "cell_type": "code",
   "execution_count": 12,
   "metadata": {},
   "outputs": [
    {
     "data": {
      "text/plain": [
       "<AxesSubplot:xlabel='Year', ylabel='Count'>"
      ]
     },
     "execution_count": 12,
     "metadata": {},
     "output_type": "execute_result"
    },
    {
     "data": {
      "image/png": "[encoded data removed]",
      "text/plain": [
       "<Figure size 1080x576 with 1 Axes>"
      ]
     },
     "metadata": {
      "needs_background": "light"
     },
     "output_type": "display_data"
    }
   ],
   "source": [
    "\n",
    "plt.figure(figsize=(15,8))\n",
    "sns.histplot(x=\"Year\", data = df_country)"
   ]
  },
  {
   "cell_type": "markdown",
   "metadata": {},
   "source": [
    "### Como fica claro nesse histograma, grande parte dos filmes presentes nas plataformas de streaming foram lançados a partir de, aproximadamente, 2012"
   ]
  },
  {
   "cell_type": "code",
   "execution_count": 60,
   "metadata": {},
   "outputs": [
    {
     "data": {
      "text/plain": [
       "<AxesSubplot:xlabel='Rotten Tomatoes', ylabel='Count'>"
      ]
     },
     "execution_count": 60,
     "metadata": {},
     "output_type": "execute_result"
    },
    {
     "data": {
      "image/png": "[encoded data removed]",
      "text/plain": [
       "<Figure size 1080x576 with 2 Axes>"
      ]
     },
     "metadata": {
      "needs_background": "light"
     },
     "output_type": "display_data"
    }
   ],
   "source": [
    "fig, axs = plt.subplots(ncols=2, figsize=(15,8))\n",
    "sns.histplot(x= \"IMDb\", data = df_country, kde=True, ax=axs[0], )\n",
    "sns.histplot(x= \"Rotten Tomatoes\", data = df_country, kde=True, ax=axs[1],)\n"
   ]
  },
  {
   "cell_type": "markdown",
   "metadata": {},
   "source": [
    "### Observando esses dois histogramas vemos que as notas de cada site para os filmes mudam um pouco. No IMDb as notas parecem estar mais concentradas em 6, já no Rotten Tomatoes, as notas parecem mais concentradas entre 40 e 50"
   ]
  },
  {
   "cell_type": "code",
   "execution_count": 69,
   "metadata": {},
   "outputs": [
    {
     "data": {
      "image/png": "[encoded data removed]",
      "text/plain": [
       "<Figure size 936x504 with 1 Axes>"
      ]
     },
     "metadata": {
      "needs_background": "light"
     },
     "output_type": "display_data"
    }
   ],
   "source": [
    "plt.figure(figsize=(13,7))\n",
    "sns.countplot(x=\"Genre\", data=df_country)\n",
    "plt.xticks(rotation=90)\n",
    "plt.show()"
   ]
  },
  {
   "cell_type": "markdown",
   "metadata": {},
   "source": [
    "### Esse Gráfico de barras demonstra que grande parte dos filmes disponíveis nas plataformas são do gênero Comédia, Drama e ação"
   ]
  },
  {
   "cell_type": "markdown",
   "metadata": {},
   "source": [
    "### Vamos analisar qual plataforma possui a maior quantidade de filmes"
   ]
  },
  {
   "cell_type": "code",
   "execution_count": 24,
   "metadata": {},
   "outputs": [
    {
     "data": {
      "text/plain": [
       "[3325, 998, 3799, 819]"
      ]
     },
     "execution_count": 24,
     "metadata": {},
     "output_type": "execute_result"
    }
   ],
   "source": [
    "streams = ['Netflix', 'Hulu','Prime Video', 'Disney+']\n",
    "\n",
    "count = []\n",
    "for i in df_country.columns: \n",
    "    if i in streams:\n",
    "        soma = df_country[i].sum()\n",
    "        count.append(soma)\n",
    "count\n",
    "\n"
   ]
  },
  {
   "cell_type": "code",
   "execution_count": 33,
   "metadata": {},
   "outputs": [
    {
     "data": {
      "text/plain": [
       "Text(0.5, 1.0, 'Total Movies by stream')"
      ]
     },
     "execution_count": 33,
     "metadata": {},
     "output_type": "execute_result"
    },
    {
     "data": {
      "image/png": "[encoded data removed]",
      "text/plain": [
       "<Figure size 720x432 with 1 Axes>"
      ]
     },
     "metadata": {
      "needs_background": "light"
     },
     "output_type": "display_data"
    }
   ],
   "source": [
    "\n",
    "plt.figure(figsize=(10,6))\n",
    "sns. barplot(x=streams, y= count,palette=\"cubehelix\")\n",
    "plt.title(\"Total Movies by stream\")"
   ]
  },
  {
   "cell_type": "markdown",
   "metadata": {},
   "source": [
    "### Uma análise interessantes é qual a média das notas que um diretor possui para suas produções? Vamos olhar isso "
   ]
  },
  {
   "cell_type": "code",
   "execution_count": 86,
   "metadata": {},
   "outputs": [
    {
     "data": {
      "text/html": [
       "<div>\n",
       "<style scoped>\n",
       "    .dataframe tbody tr th:only-of-type {\n",
       "        vertical-align: middle;\n",
       "    }\n",
       "\n",
       "    .dataframe tbody tr th {\n",
       "        vertical-align: top;\n",
       "    }\n",
       "\n",
       "    .dataframe thead tr th {\n",
       "        text-align: left;\n",
       "    }\n",
       "\n",
       "    .dataframe thead tr:last-of-type th {\n",
       "        text-align: right;\n",
       "    }\n",
       "</style>\n",
       "<table border=\"1\" class=\"dataframe\">\n",
       "  <thead>\n",
       "    <tr>\n",
       "      <th></th>\n",
       "      <th colspan=\"2\" halign=\"left\">IMDb</th>\n",
       "    </tr>\n",
       "    <tr>\n",
       "      <th></th>\n",
       "      <th>mean</th>\n",
       "      <th>count</th>\n",
       "    </tr>\n",
       "    <tr>\n",
       "      <th>Directors</th>\n",
       "      <th></th>\n",
       "      <th></th>\n",
       "    </tr>\n",
       "  </thead>\n",
       "  <tbody>\n",
       "    <tr>\n",
       "      <th>Jason Docter,Matt Docter</th>\n",
       "      <td>9.80</td>\n",
       "      <td>1</td>\n",
       "    </tr>\n",
       "    <tr>\n",
       "      <th>PJ Moynihan</th>\n",
       "      <td>9.20</td>\n",
       "      <td>1</td>\n",
       "    </tr>\n",
       "    <tr>\n",
       "      <th>Amadeusz Kocan</th>\n",
       "      <td>9.15</td>\n",
       "      <td>2</td>\n",
       "    </tr>\n",
       "    <tr>\n",
       "      <th>Samir Al Asfory</th>\n",
       "      <td>9.00</td>\n",
       "      <td>1</td>\n",
       "    </tr>\n",
       "    <tr>\n",
       "      <th>Dennis M. Lynch</th>\n",
       "      <td>9.00</td>\n",
       "      <td>1</td>\n",
       "    </tr>\n",
       "    <tr>\n",
       "      <th>...</th>\n",
       "      <td>...</td>\n",
       "      <td>...</td>\n",
       "    </tr>\n",
       "    <tr>\n",
       "      <th>Sajid Khan</th>\n",
       "      <td>1.70</td>\n",
       "      <td>1</td>\n",
       "    </tr>\n",
       "    <tr>\n",
       "      <th>David Rambaldi</th>\n",
       "      <td>1.60</td>\n",
       "      <td>1</td>\n",
       "    </tr>\n",
       "    <tr>\n",
       "      <th>Sasha Burrow</th>\n",
       "      <td>1.50</td>\n",
       "      <td>1</td>\n",
       "    </tr>\n",
       "    <tr>\n",
       "      <th>S.A. Zaidi</th>\n",
       "      <td>1.50</td>\n",
       "      <td>1</td>\n",
       "    </tr>\n",
       "    <tr>\n",
       "      <th>Jason Wright</th>\n",
       "      <td>1.10</td>\n",
       "      <td>1</td>\n",
       "    </tr>\n",
       "  </tbody>\n",
       "</table>\n",
       "<p>6327 rows × 2 columns</p>\n",
       "</div>"
      ],
      "text/plain": [
       "                          IMDb      \n",
       "                          mean count\n",
       "Directors                           \n",
       "Jason Docter,Matt Docter  9.80     1\n",
       "PJ Moynihan               9.20     1\n",
       "Amadeusz Kocan            9.15     2\n",
       "Samir Al Asfory           9.00     1\n",
       "Dennis M. Lynch           9.00     1\n",
       "...                        ...   ...\n",
       "Sajid Khan                1.70     1\n",
       "David Rambaldi            1.60     1\n",
       "Sasha Burrow              1.50     1\n",
       "S.A. Zaidi                1.50     1\n",
       "Jason Wright              1.10     1\n",
       "\n",
       "[6327 rows x 2 columns]"
      ]
     },
     "execution_count": 86,
     "metadata": {},
     "output_type": "execute_result"
    }
   ],
   "source": [
    "df_country[[\"IMDb\",\"Directors\"]].groupby(by=\"Directors\").agg([\"mean\",\"count\"]).sort_values(by=(\"IMDb\",\"mean\"), ascending=False)"
   ]
  },
  {
   "cell_type": "markdown",
   "metadata": {},
   "source": [
    "### Aqui temos um problema, a maioria dos diretores nas primeiras posições só possuem um filme, isso acaba modificando muito as médias, uma vez que ela so levará em conta um único filme. \n",
    "### Para termos uma ideia melhor das médias por diretor, vamor filtrar esses dados para diretores que lançaram no mínimo 5 filmes"
   ]
  },
  {
   "cell_type": "code",
   "execution_count": 91,
   "metadata": {},
   "outputs": [
    {
     "data": {
      "text/html": [
       "<div>\n",
       "<style scoped>\n",
       "    .dataframe tbody tr th:only-of-type {\n",
       "        vertical-align: middle;\n",
       "    }\n",
       "\n",
       "    .dataframe tbody tr th {\n",
       "        vertical-align: top;\n",
       "    }\n",
       "\n",
       "    .dataframe thead tr th {\n",
       "        text-align: left;\n",
       "    }\n",
       "\n",
       "    .dataframe thead tr:last-of-type th {\n",
       "        text-align: right;\n",
       "    }\n",
       "</style>\n",
       "<table border=\"1\" class=\"dataframe\">\n",
       "  <thead>\n",
       "    <tr>\n",
       "      <th></th>\n",
       "      <th colspan=\"2\" halign=\"left\">IMDb</th>\n",
       "    </tr>\n",
       "    <tr>\n",
       "      <th></th>\n",
       "      <th>mean</th>\n",
       "      <th>count</th>\n",
       "    </tr>\n",
       "    <tr>\n",
       "      <th>Directors</th>\n",
       "      <th></th>\n",
       "      <th></th>\n",
       "    </tr>\n",
       "  </thead>\n",
       "  <tbody>\n",
       "    <tr>\n",
       "      <th>Anthony Russo,Joe Russo</th>\n",
       "      <td>7.740000</td>\n",
       "      <td>5</td>\n",
       "    </tr>\n",
       "    <tr>\n",
       "      <th>Brad Bird</th>\n",
       "      <td>7.720000</td>\n",
       "      <td>5</td>\n",
       "    </tr>\n",
       "    <tr>\n",
       "      <th>Bong Joon Ho</th>\n",
       "      <td>7.620000</td>\n",
       "      <td>5</td>\n",
       "    </tr>\n",
       "    <tr>\n",
       "      <th>Alfred Hitchcock</th>\n",
       "      <td>7.620000</td>\n",
       "      <td>5</td>\n",
       "    </tr>\n",
       "    <tr>\n",
       "      <th>Tim Gray</th>\n",
       "      <td>7.550000</td>\n",
       "      <td>6</td>\n",
       "    </tr>\n",
       "    <tr>\n",
       "      <th>Martin Scorsese</th>\n",
       "      <td>7.520000</td>\n",
       "      <td>10</td>\n",
       "    </tr>\n",
       "    <tr>\n",
       "      <th>Mike Clattenburg</th>\n",
       "      <td>7.440000</td>\n",
       "      <td>5</td>\n",
       "    </tr>\n",
       "    <tr>\n",
       "      <th>James Algar</th>\n",
       "      <td>7.350000</td>\n",
       "      <td>8</td>\n",
       "    </tr>\n",
       "    <tr>\n",
       "      <th>Youssef Chahine</th>\n",
       "      <td>7.333333</td>\n",
       "      <td>6</td>\n",
       "    </tr>\n",
       "    <tr>\n",
       "      <th>Anurag Basu</th>\n",
       "      <td>7.320000</td>\n",
       "      <td>5</td>\n",
       "    </tr>\n",
       "  </tbody>\n",
       "</table>\n",
       "</div>"
      ],
      "text/plain": [
       "                             IMDb      \n",
       "                             mean count\n",
       "Directors                              \n",
       "Anthony Russo,Joe Russo  7.740000     5\n",
       "Brad Bird                7.720000     5\n",
       "Bong Joon Ho             7.620000     5\n",
       "Alfred Hitchcock         7.620000     5\n",
       "Tim Gray                 7.550000     6\n",
       "Martin Scorsese          7.520000    10\n",
       "Mike Clattenburg         7.440000     5\n",
       "James Algar              7.350000     8\n",
       "Youssef Chahine          7.333333     6\n",
       "Anurag Basu              7.320000     5"
      ]
     },
     "execution_count": 91,
     "metadata": {},
     "output_type": "execute_result"
    }
   ],
   "source": [
    "directors = df_country[[\"IMDb\",\"Directors\"]].groupby(by=\"Directors\").agg([\"mean\",\"count\"]).sort_values(by=(\"IMDb\",\"mean\"), ascending=False)\n",
    "directors[directors[(\"IMDb\",\"count\")]>4].head(10)"
   ]
  },
  {
   "cell_type": "markdown",
   "metadata": {},
   "source": [
    "### Outra análise interessante é a média das notas por Gênero de filme"
   ]
  },
  {
   "cell_type": "code",
   "execution_count": 34,
   "metadata": {},
   "outputs": [
    {
     "data": {
      "text/html": [
       "<div>\n",
       "<style scoped>\n",
       "    .dataframe tbody tr th:only-of-type {\n",
       "        vertical-align: middle;\n",
       "    }\n",
       "\n",
       "    .dataframe tbody tr th {\n",
       "        vertical-align: top;\n",
       "    }\n",
       "\n",
       "    .dataframe thead th {\n",
       "        text-align: right;\n",
       "    }\n",
       "</style>\n",
       "<table border=\"1\" class=\"dataframe\">\n",
       "  <thead>\n",
       "    <tr style=\"text-align: right;\">\n",
       "      <th></th>\n",
       "      <th>IMDb</th>\n",
       "    </tr>\n",
       "    <tr>\n",
       "      <th>Genre</th>\n",
       "      <th></th>\n",
       "    </tr>\n",
       "  </thead>\n",
       "  <tbody>\n",
       "    <tr>\n",
       "      <th>Talk-Show</th>\n",
       "      <td>7.700000</td>\n",
       "    </tr>\n",
       "    <tr>\n",
       "      <th>Reality-TV</th>\n",
       "      <td>7.000000</td>\n",
       "    </tr>\n",
       "    <tr>\n",
       "      <th>Documentary</th>\n",
       "      <td>6.992269</td>\n",
       "    </tr>\n",
       "    <tr>\n",
       "      <th>History</th>\n",
       "      <td>6.862500</td>\n",
       "    </tr>\n",
       "    <tr>\n",
       "      <th>Music</th>\n",
       "      <td>6.776923</td>\n",
       "    </tr>\n",
       "    <tr>\n",
       "      <th>Biography</th>\n",
       "      <td>6.743189</td>\n",
       "    </tr>\n",
       "    <tr>\n",
       "      <th>Musical</th>\n",
       "      <td>6.588889</td>\n",
       "    </tr>\n",
       "    <tr>\n",
       "      <th>Animation</th>\n",
       "      <td>6.460458</td>\n",
       "    </tr>\n",
       "    <tr>\n",
       "      <th>Sport</th>\n",
       "      <td>6.400000</td>\n",
       "    </tr>\n",
       "    <tr>\n",
       "      <th>Short</th>\n",
       "      <td>6.323529</td>\n",
       "    </tr>\n",
       "  </tbody>\n",
       "</table>\n",
       "</div>"
      ],
      "text/plain": [
       "                 IMDb\n",
       "Genre                \n",
       "Talk-Show    7.700000\n",
       "Reality-TV   7.000000\n",
       "Documentary  6.992269\n",
       "History      6.862500\n",
       "Music        6.776923\n",
       "Biography    6.743189\n",
       "Musical      6.588889\n",
       "Animation    6.460458\n",
       "Sport        6.400000\n",
       "Short        6.323529"
      ]
     },
     "execution_count": 34,
     "metadata": {},
     "output_type": "execute_result"
    }
   ],
   "source": [
    "genres_imdb = df_country[[\"IMDb\",\"Genre\"]].groupby(by=\"Genre\").mean().sort_values(by=\"IMDb\", ascending=False)\n",
    "genres_imdb.head(10)\n"
   ]
  },
  {
   "cell_type": "code",
   "execution_count": 13,
   "metadata": {},
   "outputs": [
    {
     "data": {
      "text/plain": [
       "Text(0.5, 0.98, 'IMDb score by Streaming Platform')"
      ]
     },
     "execution_count": 13,
     "metadata": {},
     "output_type": "execute_result"
    },
    {
     "data": {
      "image/png": "[encoded data removed]",
      "text/plain": [
       "<Figure size 1224x432 with 4 Axes>"
      ]
     },
     "metadata": {
      "needs_background": "light"
     },
     "output_type": "display_data"
    }
   ],
   "source": [
    "nf = df_country[df_country[\"Netflix\"] == 1]\n",
    "h = df_country[df_country[\"Hulu\"] == 1]\n",
    "pv = df_country[df_country[\"Prime Video\"] == 1]\n",
    "d = df_country[df_country[\"Disney+\"] == 1]\n",
    "\n",
    "fig, axs = plt.subplots(ncols=4, figsize=(17,6))\n",
    "sns.histplot(x= \"IMDb\", data = nf, ax=axs[0], bins= 15)\n",
    "sns.histplot(x= \"IMDb\", data = h, ax=axs[1], bins = 15)\n",
    "sns.histplot(x= \"IMDb\", data = pv, ax=axs[2], bins = 15)\n",
    "sns.histplot(x= \"IMDb\", data = d, ax=axs[3], bins = 15)\n",
    "\n",
    "axs[0].set_title(\"Netflix\")\n",
    "axs[1].set_title(\"Hulu\")\n",
    "axs[2].set_title(\"Prime Video\")\n",
    "axs[3].set_title(\"Disney+\")\n",
    "\n",
    "fig.suptitle(\"IMDb score by Streaming Platform\")\n"
   ]
  },
  {
   "cell_type": "code",
   "execution_count": 38,
   "metadata": {},
   "outputs": [
    {
     "data": {
      "image/png": "[encoded data removed]",
      "text/plain": [
       "<Figure size 1224x432 with 4 Axes>"
      ]
     },
     "metadata": {
      "needs_background": "light"
     },
     "output_type": "display_data"
    }
   ],
   "source": [
    "fig, axs = plt.subplots(ncols=4, figsize=(17,6))\n",
    "sns.countplot(x= \"Genre\", data = nf, ax=axs[0], color = \"red\")\n",
    "sns.countplot(x= \"Genre\", data = h, ax=axs[1], color = \"green\")\n",
    "sns.countplot(x= \"Genre\", data = pv, ax=axs[2], color = \"blue\")\n",
    "sns.countplot(x= \"Genre\", data = d, ax=axs[3], color = \"purple\")\n",
    "\n",
    "axs[0].set_title(\"Netflix\")\n",
    "axs[1].set_title(\"Hulu\")\n",
    "axs[2].set_title(\"Prime Video\")\n",
    "axs[3].set_title(\"Disney+\")\n",
    "\n",
    "fig.suptitle(\"Genre Count by Streaming Platform\")\n",
    "\n",
    "axs[0].tick_params(labelrotation=90)\n",
    "axs[1].tick_params(labelrotation=90)\n",
    "axs[2].tick_params(labelrotation=90)\n",
    "axs[3].tick_params(labelrotation=90)\n",
    "\n"
   ]
  },
  {
   "cell_type": "markdown",
   "metadata": {},
   "source": [
    "## Correlações"
   ]
  },
  {
   "cell_type": "code",
   "execution_count": 104,
   "metadata": {},
   "outputs": [
    {
     "data": {
      "text/html": [
       "<div>\n",
       "<style scoped>\n",
       "    .dataframe tbody tr th:only-of-type {\n",
       "        vertical-align: middle;\n",
       "    }\n",
       "\n",
       "    .dataframe tbody tr th {\n",
       "        vertical-align: top;\n",
       "    }\n",
       "\n",
       "    .dataframe thead th {\n",
       "        text-align: right;\n",
       "    }\n",
       "</style>\n",
       "<table border=\"1\" class=\"dataframe\">\n",
       "  <thead>\n",
       "    <tr style=\"text-align: right;\">\n",
       "      <th></th>\n",
       "      <th>ID</th>\n",
       "      <th>Title</th>\n",
       "      <th>Year</th>\n",
       "      <th>IMDb</th>\n",
       "      <th>Rotten Tomatoes</th>\n",
       "      <th>Netflix</th>\n",
       "      <th>Hulu</th>\n",
       "      <th>Prime Video</th>\n",
       "      <th>Disney+</th>\n",
       "      <th>Type</th>\n",
       "      <th>Directors</th>\n",
       "      <th>Runtime</th>\n",
       "      <th>Genre</th>\n",
       "      <th>Countrys</th>\n",
       "    </tr>\n",
       "  </thead>\n",
       "  <tbody>\n",
       "    <tr>\n",
       "      <th>0</th>\n",
       "      <td>1</td>\n",
       "      <td>7143</td>\n",
       "      <td>2019</td>\n",
       "      <td>7.8</td>\n",
       "      <td>98</td>\n",
       "      <td>1</td>\n",
       "      <td>0</td>\n",
       "      <td>0</td>\n",
       "      <td>0</td>\n",
       "      <td>0</td>\n",
       "      <td>3811</td>\n",
       "      <td>209.0</td>\n",
       "      <td>3</td>\n",
       "      <td>90</td>\n",
       "    </tr>\n",
       "    <tr>\n",
       "      <th>1</th>\n",
       "      <td>2</td>\n",
       "      <td>1754</td>\n",
       "      <td>2016</td>\n",
       "      <td>8.4</td>\n",
       "      <td>97</td>\n",
       "      <td>1</td>\n",
       "      <td>0</td>\n",
       "      <td>0</td>\n",
       "      <td>0</td>\n",
       "      <td>0</td>\n",
       "      <td>4322</td>\n",
       "      <td>161.0</td>\n",
       "      <td>0</td>\n",
       "      <td>36</td>\n",
       "    </tr>\n",
       "    <tr>\n",
       "      <th>2</th>\n",
       "      <td>3</td>\n",
       "      <td>1798</td>\n",
       "      <td>2020</td>\n",
       "      <td>9.0</td>\n",
       "      <td>95</td>\n",
       "      <td>1</td>\n",
       "      <td>0</td>\n",
       "      <td>0</td>\n",
       "      <td>0</td>\n",
       "      <td>0</td>\n",
       "      <td>147</td>\n",
       "      <td>83.0</td>\n",
       "      <td>6</td>\n",
       "      <td>89</td>\n",
       "    </tr>\n",
       "    <tr>\n",
       "      <th>3</th>\n",
       "      <td>4</td>\n",
       "      <td>3872</td>\n",
       "      <td>2001</td>\n",
       "      <td>8.1</td>\n",
       "      <td>94</td>\n",
       "      <td>1</td>\n",
       "      <td>0</td>\n",
       "      <td>0</td>\n",
       "      <td>0</td>\n",
       "      <td>0</td>\n",
       "      <td>531</td>\n",
       "      <td>224.0</td>\n",
       "      <td>7</td>\n",
       "      <td>36</td>\n",
       "    </tr>\n",
       "    <tr>\n",
       "      <th>5</th>\n",
       "      <td>6</td>\n",
       "      <td>7989</td>\n",
       "      <td>2018</td>\n",
       "      <td>7.1</td>\n",
       "      <td>94</td>\n",
       "      <td>1</td>\n",
       "      <td>0</td>\n",
       "      <td>0</td>\n",
       "      <td>0</td>\n",
       "      <td>0</td>\n",
       "      <td>5683</td>\n",
       "      <td>99.0</td>\n",
       "      <td>4</td>\n",
       "      <td>90</td>\n",
       "    </tr>\n",
       "  </tbody>\n",
       "</table>\n",
       "</div>"
      ],
      "text/plain": [
       "   ID  Title  Year  IMDb  Rotten Tomatoes  Netflix  Hulu  Prime Video  \\\n",
       "0   1   7143  2019   7.8               98        1     0            0   \n",
       "1   2   1754  2016   8.4               97        1     0            0   \n",
       "2   3   1798  2020   9.0               95        1     0            0   \n",
       "3   4   3872  2001   8.1               94        1     0            0   \n",
       "5   6   7989  2018   7.1               94        1     0            0   \n",
       "\n",
       "   Disney+  Type  Directors  Runtime  Genre  Countrys  \n",
       "0        0     0       3811    209.0      3        90  \n",
       "1        0     0       4322    161.0      0        36  \n",
       "2        0     0        147     83.0      6        89  \n",
       "3        0     0        531    224.0      7        36  \n",
       "5        0     0       5683     99.0      4        90  "
      ]
     },
     "execution_count": 104,
     "metadata": {},
     "output_type": "execute_result"
    }
   ],
   "source": [
    "df_corr = df_country.copy()\n",
    "\n",
    "for cols in df_corr.columns:\n",
    "    if df_corr[cols].dtype == \"object\":\n",
    "        df_corr[cols] = df_corr[cols].astype(\"category\")\n",
    "        df_corr[cols] = df_corr[cols].cat.codes\n",
    "df_corr.head()\n"
   ]
  },
  {
   "cell_type": "code",
   "execution_count": 109,
   "metadata": {},
   "outputs": [
    {
     "data": {
      "text/plain": [
       "<AxesSubplot:>"
      ]
     },
     "execution_count": 109,
     "metadata": {},
     "output_type": "execute_result"
    },
    {
     "data": {
      "image/png": "[encoded data removed]",
      "text/plain": [
       "<Figure size 720x720 with 2 Axes>"
      ]
     },
     "metadata": {
      "needs_background": "light"
     },
     "output_type": "display_data"
    }
   ],
   "source": [
    "df_corr.drop(columns=\"Type\", inplace=True)\n",
    "plt.figure(figsize=(10,10))\n",
    "sns.heatmap(df_corr.corr(), annot= True)"
   ]
  },
  {
   "cell_type": "code",
   "execution_count": null,
   "metadata": {},
   "outputs": [],
   "source": []
  }
 ],
 "metadata": {
  "interpreter": {
   "hash": "51b9ad24d63439ac1595c0936db43b926a873ce9029c5f9bea069af26a7b72f1"
  },
  "kernelspec": {
   "display_name": "Python 3.8.5 64-bit ('base': conda)",
   "name": "python3"
  },
  "language_info": {
   "codemirror_mode": {
    "name": "ipython",
    "version": 3
   },
   "file_extension": ".py",
   "mimetype": "text/x-python",
   "name": "python",
   "nbconvert_exporter": "python",
   "pygments_lexer": "ipython3",
   "version": "3.8.5"
  },
  "orig_nbformat": 4
 },
 "nbformat": 4,
 "nbformat_minor": 2
}
